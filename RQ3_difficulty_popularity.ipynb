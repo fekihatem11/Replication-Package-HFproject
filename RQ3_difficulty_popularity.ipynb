{
 "cells": [
  {
   "cell_type": "code",
   "execution_count": null,
   "id": "d4368962",
   "metadata": {},
   "outputs": [],
   "source": [
    "import json\n",
    "import requests\n",
    "import csv\n",
    "import pandas as pd\n",
    "import matplotlib.pyplot as plt\n",
    "from ast import literal_eval\n",
    "import numpy as np\n",
    "import datetime\n",
    "import seaborn as sns"
   ]
  },
  {
   "cell_type": "code",
   "execution_count": null,
   "id": "7f65724d",
   "metadata": {},
   "outputs": [],
   "source": [
    "#Evolution of the number of SO questions in each topic\n",
    "# Set theme for aesthetics\n",
    "sns.set_theme(style=\"whitegrid\")\n",
    "\n",
    "# Load and prepare data\n",
    "df = pd.read_csv('HF_SO_2019_2024.csv')\n",
    "df['topic_label'] = df['topic_label'].replace('Compute capabilities', 'Distributed Computing and Resource Management')\n",
    "\n",
    "# Exclude the rows where 'topic_label' is 'Other'\n",
    "df_filtered = df[~df['topic_label'].isin(['Other'])]\n",
    "\n",
    "# Group by 'year' and 'topic_label' and count the number of questions\n",
    "grouped_df = df_filtered.groupby(['year', 'topic_label']).size().unstack(fill_value=0)\n",
    "\n",
    "# Define a compact color palette for a stacked style\n",
    "colors = sns.color_palette(\"tab20\", n_colors=len(grouped_df.columns))\n",
    "\n",
    "# Plotting\n",
    "fig, ax = plt.subplots(figsize=(5, 3.7))  # Compact size for single-column fit\n",
    "\n",
    "# Plot the stacked bar chart\n",
    "grouped_df.plot(kind='bar', stacked=True, ax=ax, color=colors, width=0.5, edgecolor='black')\n",
    "\n",
    "# Customize the plot for a compact and clear style\n",
    "ax.set_xlabel('Year', fontsize=9)\n",
    "ax.set_ylabel('Number of Questions', fontsize=9)\n",
    "plt.xticks(rotation=45, ha='right', fontsize=8)\n",
    "plt.yticks(fontsize=8)\n",
    "\n",
    "# Position the legend inside the plot area at the upper left\n",
    "plt.legend(title='Topic Label', bbox_to_anchor=(0.02, 0.98), loc='upper left', fontsize=7, title_fontsize=8, frameon=True, shadow=False)\n",
    "\n",
    "# Save the figure for LaTeX\n",
    "plt.tight_layout()  # Adjust layout to fit in single column\n",
    "plt.savefig('so_questions_evolution_compact.pdf', format='pdf', bbox_inches='tight', dpi=300)\n",
    "plt.show()\n"
   ]
  },
  {
   "cell_type": "code",
   "execution_count": null,
   "id": "756f75e6",
   "metadata": {},
   "outputs": [],
   "source": [
    "# Group by 'topic_label' and count the number of questions\n",
    "questions_per_topic = df.groupby('topic_label').size().reset_index(name='number_of_questions')\n",
    "questions_per_topic = questions_per_topic.sort_values(by='number_of_questions', ascending=False)\n",
    "# Display the result\n",
    "print(questions_per_topic)"
   ]
  },
  {
   "cell_type": "code",
   "execution_count": null,
   "id": "c5dec5c5",
   "metadata": {},
   "outputs": [],
   "source": [
    "avg_stats = df_filtered.groupby('topic_label').agg(\n",
    "    avg_view_count=('view_count', 'mean'),\n",
    "    avg_score=('score', 'mean')\n",
    ").round(1).reset_index()\n",
    "# Convert the rounded float values to integers\n",
    "\n",
    "\n",
    "# Display the resulting DataFrame\n",
    "print(avg_stats)\n"
   ]
  },
  {
   "cell_type": "code",
   "execution_count": null,
   "id": "172de217",
   "metadata": {},
   "outputs": [],
   "source": [
    "# Calculate the average duration in days per topic\n",
    "average_period_per_topic = df_filtered.groupby('topic_label')['duration_accepted_answer'].mean().reset_index()\n",
    "\n",
    "# Round the results for better readability\n",
    "average_period_per_topic = average_period_per_topic.round({'duration_accepted_answer': 1})\n",
    "\n",
    "# Display the result\n",
    "print(average_period_per_topic)"
   ]
  },
  {
   "cell_type": "code",
   "execution_count": null,
   "id": "e86e0854",
   "metadata": {},
   "outputs": [],
   "source": [
    "\n",
    "\n",
    "# Group by 'topic_label' and count the total number of questions per topic\n",
    "total_questions_per_topic = df.groupby('topic_label').size()\n",
    "\n",
    "# Group by 'topic_label' and count the number of questions without an accepted answer\n",
    "questions_without_answer_per_topic = df[df['accepted_answer_id'].isna()].groupby('topic_label').size()\n",
    "\n",
    "# Calculate the percentage of questions without an accepted answer\n",
    "percentage_without_answer = (questions_without_answer_per_topic / total_questions_per_topic) * 100\n",
    "\n",
    "# Reset index to convert Series to DataFrame and give it a meaningful name\n",
    "percentage_without_answer = percentage_without_answer.round(1).reset_index(name='percentage_without_accepted_answer')\n",
    "percentage_without_answer = percentage_without_answer.sort_values(by='percentage_without_accepted_answer', ascending=False)\n",
    "\n",
    "\n",
    "# Display the result\n",
    "print(percentage_without_answer)"
   ]
  },
  {
   "cell_type": "code",
   "execution_count": null,
   "id": "735bdae1",
   "metadata": {},
   "outputs": [],
   "source": [
    "\n",
    "# Group by 'topic_label' and count the total number of questions per topic\n",
    "total_questions_per_topic = df.groupby('topic_label').size()\n",
    "\n",
    "# Group by 'topic_label' and count the number of questions without an accepted answer\n",
    "questions_without_answer_per_topic = df[df['answer_count']==0].groupby('topic_label').size()\n",
    "\n",
    "# Calculate the percentage of questions without an accepted answer\n",
    "percentage_without_answer = (questions_without_answer_per_topic / total_questions_per_topic) * 100\n",
    "\n",
    "# Reset index to convert Series to DataFrame and give it a meaningful name\n",
    "percentage_without_answer = percentage_without_answer.round(1).reset_index(name='percentage_without_answer')\n",
    "\n",
    "# Display the result\n",
    "print(percentage_without_answer)"
   ]
  },
  {
   "cell_type": "code",
   "execution_count": null,
   "id": "9a78c3bd",
   "metadata": {},
   "outputs": [],
   "source": [
    "# Step 1: Group by 'topic_label' and 'year', and count the number of questions for each group\n",
    "questions_per_year = df.groupby(['topic_label', 'year']).size().reset_index(name='number_of_questions')\n",
    "\n",
    "# Step 2: Calculate the yearly increase percentage for each topic\n",
    "questions_per_year['yearly_increase_percentage'] = questions_per_year.groupby('topic_label')['number_of_questions'].pct_change() * 100\n",
    "\n",
    "\n",
    "questions_per_year_filtered = questions_per_year[\n",
    "    ~((questions_per_year['year'] == 2020) & (questions_per_year.groupby('topic_label').cumcount() == 1))\n",
    "]\n",
    "\n",
    "\n",
    "\n",
    "# Step 4: Calculate the average yearly increase percentage per topic, excluding he 2019-2020 increase\n",
    "average_increase_percentage = questions_per_year_filtered.groupby('topic_label')['yearly_increase_percentage'].mean().round(1).reset_index(name='average_yearly_increase_percentage')\n",
    "\n",
    "\n",
    "print (questions_per_year)\n",
    "# Display the result\n",
    "print(average_increase_percentage)"
   ]
  },
  {
   "cell_type": "code",
   "execution_count": null,
   "id": "90a746ba",
   "metadata": {},
   "outputs": [],
   "source": [
    "data_filtered = df[df['year'].isin([2020, 2021, 2022, 2023,2024])]\n",
    "\n",
    "# Group by year and count the number of questions per year\n",
    "yearly_data = data_filtered.groupby('year').size().reset_index(name='question_count')\n",
    "\n",
    "# Calculate the yearly growth rate\n",
    "yearly_data['growth_rate'] = yearly_data['question_count'].pct_change() * 100\n",
    "\n",
    "# Calculate the average yearly growth rate (excluding the first year which has NaN)\n",
    "average_yearly_growth_rate = yearly_data['growth_rate'].iloc[1:].mean()\n",
    "\n",
    "print(yearly_data)\n",
    "print(f\"The average yearly growth rate of questions from 2020 to 2024 is {average_yearly_growth_rate:.2f}%\")"
   ]
  },
  {
   "cell_type": "code",
   "execution_count": null,
   "id": "7a551b56",
   "metadata": {},
   "outputs": [],
   "source": [
    "count_how_titles = df['title'].str.contains(r'\\b[Hh]ow\\b', regex=True).sum()\n",
    "\n",
    "print(f\"Number of titles containing 'how' or 'How': {count_how_titles}\")"
   ]
  },
  {
   "cell_type": "code",
   "execution_count": null,
   "id": "574f1f0e",
   "metadata": {},
   "outputs": [],
   "source": [
    "count_how_titles = df['title'].str.contains(r'\\b[Ww]hy\\b', regex=True).sum()\n",
    "\n",
    "print(f\"Number of titles containing 'why' or 'Why': {count_how_titles}\")"
   ]
  }
 ],
 "metadata": {
  "kernelspec": {
   "display_name": "Python 3 (ipykernel)",
   "language": "python",
   "name": "python3"
  },
  "language_info": {
   "codemirror_mode": {
    "name": "ipython",
    "version": 3
   },
   "file_extension": ".py",
   "mimetype": "text/x-python",
   "name": "python",
   "nbconvert_exporter": "python",
   "pygments_lexer": "ipython3",
   "version": "3.11.5"
  }
 },
 "nbformat": 4,
 "nbformat_minor": 5
}
